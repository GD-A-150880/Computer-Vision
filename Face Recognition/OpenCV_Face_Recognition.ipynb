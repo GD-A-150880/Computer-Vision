{
  "nbformat": 4,
  "nbformat_minor": 0,
  "metadata": {
    "colab": {
      "name": "OpenCV Face Recognition.ipynb",
      "provenance": [],
      "collapsed_sections": []
    },
    "kernelspec": {
      "name": "python3",
      "display_name": "Python 3"
    },
    "accelerator": "GPU"
  },
  "cells": [
    {
      "cell_type": "code",
      "metadata": {
        "id": "NUDzsNPO9uMe",
        "colab_type": "code",
        "colab": {}
      },
      "source": [
        "# import the necessary packages\n",
        "from imutils import paths\n",
        "import numpy as np\n",
        "import argparse\n",
        "import imutils\n",
        "import pickle\n",
        "import cv2\n",
        "import os"
      ],
      "execution_count": 0,
      "outputs": []
    },
    {
      "cell_type": "code",
      "metadata": {
        "id": "hd6-YUZdY8mc",
        "colab_type": "code",
        "outputId": "e42f4118-7639-4d50-f764-66d3694fb534",
        "colab": {
          "base_uri": "https://localhost:8080/",
          "height": 752
        }
      },
      "source": [
        "!unzip 'opencv-face-recognition.zip'"
      ],
      "execution_count": 0,
      "outputs": [
        {
          "output_type": "stream",
          "text": [
            "Archive:  opencv-face-recognition.zip\n",
            "   creating: opencv-face-recognition/\n",
            "   creating: opencv-face-recognition/dataset/\n",
            "   creating: opencv-face-recognition/dataset/adrian/\n",
            "  inflating: opencv-face-recognition/dataset/adrian/00000.png  \n",
            "  inflating: opencv-face-recognition/dataset/adrian/00001.png  \n",
            "  inflating: opencv-face-recognition/dataset/adrian/00002.jpg  \n",
            "  inflating: opencv-face-recognition/dataset/adrian/00003.jpg  \n",
            "  inflating: opencv-face-recognition/dataset/adrian/00004.jpg  \n",
            "  inflating: opencv-face-recognition/dataset/adrian/00005.jpg  \n",
            "   creating: opencv-face-recognition/dataset/trisha/\n",
            "  inflating: opencv-face-recognition/dataset/trisha/00000.png  \n",
            "  inflating: opencv-face-recognition/dataset/trisha/00001.png  \n",
            "  inflating: opencv-face-recognition/dataset/trisha/00002.png  \n",
            "  inflating: opencv-face-recognition/dataset/trisha/00003.png  \n",
            "  inflating: opencv-face-recognition/dataset/trisha/00004.png  \n",
            "  inflating: opencv-face-recognition/dataset/trisha/00005.png  \n",
            "   creating: opencv-face-recognition/dataset/unknown/\n",
            "  inflating: opencv-face-recognition/dataset/unknown/alan_grant.jpg  \n",
            "  inflating: opencv-face-recognition/dataset/unknown/claire_dearing.jpg  \n",
            "  inflating: opencv-face-recognition/dataset/unknown/ellie_sattler.jpg  \n",
            "  inflating: opencv-face-recognition/dataset/unknown/ian_malcolm.jpg  \n",
            " extracting: opencv-face-recognition/dataset/unknown/john_hammond.jpg  \n",
            "  inflating: opencv-face-recognition/dataset/unknown/own_grady.jpg  \n",
            "  inflating: opencv-face-recognition/extract_embeddings.py  \n",
            "   creating: opencv-face-recognition/face_detection_model/\n",
            "  inflating: opencv-face-recognition/face_detection_model/deploy.prototxt  \n",
            "  inflating: opencv-face-recognition/face_detection_model/res10_300x300_ssd_iter_140000.caffemodel  \n",
            "   creating: opencv-face-recognition/images/\n",
            "  inflating: opencv-face-recognition/images/adrian.jpg  \n",
            "  inflating: opencv-face-recognition/images/patrick_bateman.jpg  \n",
            "  inflating: opencv-face-recognition/images/trisha_adrian.jpg  \n",
            "  inflating: opencv-face-recognition/openface_nn4.small2.v1.t7  \n",
            "   creating: opencv-face-recognition/output/\n",
            "  inflating: opencv-face-recognition/output/embeddings.pickle  \n",
            "  inflating: opencv-face-recognition/output/le.pickle  \n",
            "  inflating: opencv-face-recognition/output/recognizer.pickle  \n",
            "  inflating: opencv-face-recognition/recognize.py  \n",
            "  inflating: opencv-face-recognition/recognize_video.py  \n",
            "  inflating: opencv-face-recognition/train_model.py  \n"
          ],
          "name": "stdout"
        }
      ]
    },
    {
      "cell_type": "code",
      "metadata": {
        "id": "LjZVeSVFY8pD",
        "colab_type": "code",
        "colab": {}
      },
      "source": [
        ""
      ],
      "execution_count": 0,
      "outputs": []
    },
    {
      "cell_type": "code",
      "metadata": {
        "id": "KULdDTFqN85N",
        "colab_type": "code",
        "colab": {}
      },
      "source": [
        "print(\"[INFO] loading face detector...\")\n",
        "protoPath = os.path.sep.join('face_detection_model', \"deploy.prototxt\"])\n",
        "modelPath = os.path.sep.join([args[\"detector\"],\"res10_300x300_ssd_iter_140000.caffemodel\"])\n",
        "detector = cv2.dnn.readNetFromCaffe(protoPath, modelPath)\n",
        " \n",
        "# load our serialized face embedding model from disk\n",
        "print(\"[INFO] loading face recognizer...\")\n",
        "embedder = cv2.dnn.readNetFromTorch(args[\"embedding_model\"])"
      ],
      "execution_count": 0,
      "outputs": []
    },
    {
      "cell_type": "code",
      "metadata": {
        "id": "L0oY5qWuo3Tn",
        "colab_type": "code",
        "colab": {}
      },
      "source": [
        ""
      ],
      "execution_count": 0,
      "outputs": []
    },
    {
      "cell_type": "code",
      "metadata": {
        "id": "TqtBWEUVo3ZA",
        "colab_type": "code",
        "colab": {}
      },
      "source": [
        ""
      ],
      "execution_count": 0,
      "outputs": []
    },
    {
      "cell_type": "code",
      "metadata": {
        "id": "kcmAyntiZMOq",
        "colab_type": "code",
        "colab": {}
      },
      "source": [
        "# grab the paths to the input images in our dataset\n",
        "print(\"[INFO] quantifying faces...\")\n",
        "imagePaths = list(paths.list_images(args[\"dataset\"]))\n",
        " \n",
        "# initialize our lists of extracted facial embeddings and\n",
        "# corresponding people names\n",
        "knownEmbeddings = []\n",
        "knownNames = []\n",
        " \n",
        "# initialize the total number of faces processed\n",
        "total = 0"
      ],
      "execution_count": 0,
      "outputs": []
    },
    {
      "cell_type": "code",
      "metadata": {
        "id": "xCulXQ9BsE8k",
        "colab_type": "code",
        "colab": {}
      },
      "source": [
        "import os\n",
        "\n",
        "path = 'datasw'\n",
        "\n",
        "files = []\n",
        "# r=root, d=directories, f = files\n",
        "for r, d, f in os.walk(path):\n",
        "    for file in f:\n",
        "        if '.txt' in file:\n",
        "            files.append(os.path.join(r, file))\n",
        "\n",
        "for f in files:\n",
        "    print(f)"
      ],
      "execution_count": 0,
      "outputs": []
    }
  ]
}